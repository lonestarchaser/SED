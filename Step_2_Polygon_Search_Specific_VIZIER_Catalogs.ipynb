{
  "nbformat": 4,
  "nbformat_minor": 0,
  "metadata": {
    "colab": {
      "provenance": [],
      "authorship_tag": "ABX9TyObD8XCkAKbAsOzOx8/A9H4",
      "include_colab_link": true
    },
    "kernelspec": {
      "name": "python3",
      "display_name": "Python 3"
    },
    "language_info": {
      "name": "python"
    }
  },
  "cells": [
    {
      "cell_type": "markdown",
      "metadata": {
        "id": "view-in-github",
        "colab_type": "text"
      },
      "source": [
        "<a href=\"https://colab.research.google.com/github/lonestarchaser/SED/blob/main/Step_2_Polygon_Search_Specific_VIZIER_Catalogs.ipynb\" target=\"_parent\"><img src=\"https://colab.research.google.com/assets/colab-badge.svg\" alt=\"Open In Colab\"/></a>"
      ]
    },
    {
      "cell_type": "markdown",
      "source": [
        "# Let's just go to Vizier Catalog Search Tool and pull the polygon points\n",
        "\n",
        "This was complicated because Vizier can't do an actual polygon search so you have to do a large enough radius around a point and then filter the results over which ones are in the polygon after you pull from the database.\n"
      ],
      "metadata": {
        "id": "UqsIdfQzowGO"
      }
    },
    {
      "cell_type": "markdown",
      "source": [
        "## First, install Astropy libraries and import packages and subpackages\n",
        "\n",
        "These aren't normally included in Colab. You can save yourself some time and only have to run this once per time you open this."
      ],
      "metadata": {
        "id": "5SrnJTvbozjv"
      }
    },
    {
      "cell_type": "code",
      "execution_count": 1,
      "metadata": {
        "colab": {
          "base_uri": "https://localhost:8080/"
        },
        "id": "JUdlqnQHopTK",
        "outputId": "5d560729-e74e-48fb-c50e-a9114b076d97"
      },
      "outputs": [
        {
          "output_type": "stream",
          "name": "stdout",
          "text": [
            "Collecting astroquery\n",
            "  Downloading astroquery-0.4.7-py3-none-any.whl (5.3 MB)\n",
            "\u001b[2K     \u001b[90m━━━━━━━━━━━━━━━━━━━━━━━━━━━━━━━━━━━━━━━━\u001b[0m \u001b[32m5.3/5.3 MB\u001b[0m \u001b[31m19.9 MB/s\u001b[0m eta \u001b[36m0:00:00\u001b[0m\n",
            "\u001b[?25hCollecting gala\n",
            "  Downloading gala-1.8.1-cp310-cp310-manylinux_2_17_x86_64.manylinux2014_x86_64.whl (15.5 MB)\n",
            "\u001b[2K     \u001b[90m━━━━━━━━━━━━━━━━━━━━━━━━━━━━━━━━━━━━━━━━\u001b[0m \u001b[32m15.5/15.5 MB\u001b[0m \u001b[31m25.9 MB/s\u001b[0m eta \u001b[36m0:00:00\u001b[0m\n",
            "\u001b[?25hRequirement already satisfied: numpy>=1.18 in /usr/local/lib/python3.10/dist-packages (from astroquery) (1.25.2)\n",
            "Requirement already satisfied: astropy>=4.2.1 in /usr/local/lib/python3.10/dist-packages (from astroquery) (5.3.4)\n",
            "Requirement already satisfied: requests>=2.19 in /usr/local/lib/python3.10/dist-packages (from astroquery) (2.31.0)\n",
            "Requirement already satisfied: beautifulsoup4>=4.8 in /usr/local/lib/python3.10/dist-packages (from astroquery) (4.12.3)\n",
            "Requirement already satisfied: html5lib>=0.999 in /usr/local/lib/python3.10/dist-packages (from astroquery) (1.1)\n",
            "Requirement already satisfied: keyring>=15.0 in /usr/lib/python3/dist-packages (from astroquery) (23.5.0)\n",
            "Collecting pyvo>=1.1 (from astroquery)\n",
            "  Downloading pyvo-1.5.2-py3-none-any.whl (910 kB)\n",
            "\u001b[2K     \u001b[90m━━━━━━━━━━━━━━━━━━━━━━━━━━━━━━━━━━━━━━━━\u001b[0m \u001b[32m910.8/910.8 kB\u001b[0m \u001b[31m21.6 MB/s\u001b[0m eta \u001b[36m0:00:00\u001b[0m\n",
            "\u001b[?25hRequirement already satisfied: scipy>=1.8 in /usr/local/lib/python3.10/dist-packages (from gala) (1.11.4)\n",
            "Requirement already satisfied: pyyaml in /usr/local/lib/python3.10/dist-packages (from gala) (6.0.1)\n",
            "Requirement already satisfied: cython>=0.29 in /usr/local/lib/python3.10/dist-packages (from gala) (3.0.10)\n",
            "Requirement already satisfied: pyerfa>=2.0 in /usr/local/lib/python3.10/dist-packages (from astropy>=4.2.1->astroquery) (2.0.1.4)\n",
            "Requirement already satisfied: packaging>=19.0 in /usr/local/lib/python3.10/dist-packages (from astropy>=4.2.1->astroquery) (24.1)\n",
            "Requirement already satisfied: soupsieve>1.2 in /usr/local/lib/python3.10/dist-packages (from beautifulsoup4>=4.8->astroquery) (2.5)\n",
            "Requirement already satisfied: six>=1.9 in /usr/local/lib/python3.10/dist-packages (from html5lib>=0.999->astroquery) (1.16.0)\n",
            "Requirement already satisfied: webencodings in /usr/local/lib/python3.10/dist-packages (from html5lib>=0.999->astroquery) (0.5.1)\n",
            "Requirement already satisfied: charset-normalizer<4,>=2 in /usr/local/lib/python3.10/dist-packages (from requests>=2.19->astroquery) (3.3.2)\n",
            "Requirement already satisfied: idna<4,>=2.5 in /usr/local/lib/python3.10/dist-packages (from requests>=2.19->astroquery) (3.7)\n",
            "Requirement already satisfied: urllib3<3,>=1.21.1 in /usr/local/lib/python3.10/dist-packages (from requests>=2.19->astroquery) (2.0.7)\n",
            "Requirement already satisfied: certifi>=2017.4.17 in /usr/local/lib/python3.10/dist-packages (from requests>=2.19->astroquery) (2024.6.2)\n",
            "Installing collected packages: pyvo, gala, astroquery\n",
            "Successfully installed astroquery-0.4.7 gala-1.8.1 pyvo-1.5.2\n"
          ]
        }
      ],
      "source": [
        "import sys\n",
        "IN_COLAB = 'google.colab' in sys.modules\n",
        "\n",
        "if IN_COLAB:\n",
        "    !pip install astroquery gala"
      ]
    },
    {
      "cell_type": "markdown",
      "source": [
        "## Import subpackages\n"
      ],
      "metadata": {
        "id": "gwXwYxFJpN8K"
      }
    },
    {
      "cell_type": "code",
      "source": [
        "from google.colab import drive\n",
        "#import numpy as np\n",
        "\n",
        "#from io import StringIO\n",
        "#import requests\n",
        "import pandas as pd\n",
        "#import matplotlib.pyplot as plt\n",
        "\n",
        "#from astroquery.ipac.irsa import Irsa\n",
        "\n",
        "from astropy.coordinates import SkyCoord\n",
        "import astropy.units as u\n",
        "from shapely.geometry import Point, Polygon\n",
        "\n",
        "from astroquery.vizier import Vizier\n",
        "Vizier.ROW_LIMIT = -1"
      ],
      "metadata": {
        "id": "_kq6_lmBpQqP"
      },
      "execution_count": 2,
      "outputs": []
    },
    {
      "cell_type": "markdown",
      "source": [
        "## Connect to your Google Drive\n",
        "\n",
        "In order to save the file to Google Drive, you need to mount you Google Drive to this Google Colab notebook. This will allow you to access your Google Drive files directly from your notebook.\n",
        "\n",
        "It's going to ask for a lot of permissions.  Just get over it."
      ],
      "metadata": {
        "id": "alM2WxH3Fcia"
      }
    },
    {
      "cell_type": "code",
      "source": [
        "drive.mount('/content/drive')"
      ],
      "metadata": {
        "id": "Pbsb0gnsE_ae",
        "colab": {
          "base_uri": "https://localhost:8080/"
        },
        "outputId": "a26c8464-5dfd-4f30-db42-6685c114c545"
      },
      "execution_count": 3,
      "outputs": [
        {
          "output_type": "stream",
          "name": "stdout",
          "text": [
            "Mounted at /content/drive\n"
          ]
        }
      ]
    },
    {
      "cell_type": "markdown",
      "source": [
        "Now you can list the files in that directory.\n",
        "\n",
        "You can do this to confirm the file is actually there:\n",
        "\n",
        "``!ls \"/content/drive/My Drive/Colab Notebooks\" ``"
      ],
      "metadata": {
        "id": "mSuTjOjaFRfU"
      }
    },
    {
      "cell_type": "markdown",
      "source": [
        "# Connect to the Server and run a query\n",
        "\n",
        "Here is the documentation for Vizier: https://media.readthedocs.org/pdf/keflavich-astroquery/latest/keflavich-astroquery.pdf\n",
        "\n"
      ],
      "metadata": {
        "id": "0wrLOXOtp_ow"
      }
    },
    {
      "cell_type": "markdown",
      "source": [
        "## Catalog Info\n",
        "\n",
        "I wish I could say I was a genius but this was a lot of chatGPT and troubleshooting and crying and begging.\n",
        "\n",
        "```\n",
        "# Specify the IPHAS catalog (example catalog identifier, update if needed)\n",
        "catalog = \"II/321/iphas2\"  # Ensure this is the correct identifier for the IPHAS data\n",
        "\n",
        "# Specify the ASAS-SN catalog (example catalog identifier, update if needed)\n",
        "catalog = \"J/ApJS/253/7/table2\"  # Ensure this is the correct identifier for the ASAS-SN data\n",
        "\n",
        "# Specify the Pan-STARRS catalog (example catalog identifier, update if needed)\n",
        "catalog = \"II/349/ps1\"  # Ensure this is the correct identifier for the Pan-STARRS data\n",
        "\n",
        "```\n",
        "\n",
        "\n",
        "\n"
      ],
      "metadata": {
        "id": "-f3-w3BRXK3-"
      }
    },
    {
      "cell_type": "code",
      "source": [
        "# ---------------------------------\n",
        "# Pick one of the two locations below\n",
        "\n",
        "# Define the polygon coordinates and the center\n",
        "\n",
        "polygon_coords = [(209, 55), (207, 55), (207, 50), (209, 50)]\n",
        "center_ra, center_dec = 208, 52.5  # Approximate center of the polygon\n",
        "filenameTag = '_MyFunPolygon.tbl'\n",
        "\n",
        "\n",
        "# Define the radius of the search region\n",
        "radius_deg = 2.0  # Increase the radius to ensure full coverage of the polygon\n",
        "\n",
        "# ---------------------------------\n",
        "# Pick one of the catalogs below\n",
        "\n",
        "# ##### Specify the Pan-STARRS catalog (example catalog identifier, update if needed)\n",
        "\n",
        "catalog = \"II/349/ps1\"  # Ensure this is the correct identifier for the Pan-STARRS data\n",
        "fileName = '/content/drive/My Drive/Colab Notebooks/panstarrs_' + filenameTag\n",
        "\n",
        "\n",
        "# ##### Specify the ASAS-SN catalog (example catalog identifier, update if needed)\n",
        "\n",
        "# Maybe it's this one: J/ApJS/244/36 but prolly not cuz no hits\n",
        "# Or this one: J/ApJS/253/7/table2   but prolly not cuz no hits\n",
        "#catalog = \"II/366/catalog\"\n",
        "#fileName = '/content/drive/My Drive/Colab Notebooks/asas_sn_' + filenameTag\n",
        "\n",
        "# ##### Specify the IPHAS catalog (example catalog identifier, update if needed)\n",
        "#catalog = \"II/321/iphas2\"  # Ensure this is the correct identifier for the IPHAS data\n",
        "#fileName = '/content/drive/My Drive/Colab Notebooks/iphas2_' + filenameTag\n",
        "\n",
        "\n",
        "# Stop messing with stuff here\n",
        "# ---------------------------------\n",
        "\n",
        "# Create a Vizier instance.  Set row limit to -1 so you actually get all the answers\n",
        "v = Vizier(columns=['*'], row_limit=-1)\n",
        "\n",
        "polygon = Polygon(polygon_coords)\n",
        "\n",
        "# Create a SkyCoord object for the center\n",
        "center_coord = SkyCoord(ra=center_ra * u.deg, dec=center_dec * u.deg, frame='icrs')\n",
        "\n",
        "# Execute the query\n",
        "result = v.query_region(center_coord, radius=radius_deg * u.deg, catalog=catalog)\n",
        "\n",
        "# Check if the result is not empty\n",
        "if result:\n",
        "    # Convert the first table in the result to a Pandas DataFrame\n",
        "    df = result[0].to_pandas()\n",
        "\n",
        "    # Save the DataFrame to a file if you want to\n",
        "    #df.to_csv('/content/drive/My Drive/Colab Notebooks/appleNotFiltered.tbl', sep='\\t', index=False)\n",
        "\n",
        "    # Print column names to verify RA and Dec columns\n",
        "    print(\"Columns in the DataFrame:\", df.columns)\n",
        "\n",
        "    # Filter rows inside the polygon\n",
        "    def is_in_polygon(row):\n",
        "        point = Point(row['RAJ2000'], row['DEJ2000'])  # Update column names if different\n",
        "        return polygon.contains(point)\n",
        "\n",
        "    filtered_df = df[df.apply(is_in_polygon, axis=1)]\n",
        "\n",
        "    # Print the number of filtered rows\n",
        "    print(\"Number of filtered rows:\", len(filtered_df))\n",
        "\n",
        "    # Save the filtered results to a file\n",
        "    filtered_df.to_csv(fileName, sep='\\t', index=False)\n",
        "    print(\"Filtered results saved to \" + fileName)\n",
        "else:\n",
        "    print(\"No results found.\")"
      ],
      "metadata": {
        "colab": {
          "base_uri": "https://localhost:8080/"
        },
        "id": "5rml8OC8YETP",
        "outputId": "5afaf568-c58f-4e45-b2ec-40084e44dd22"
      },
      "execution_count": 6,
      "outputs": [
        {
          "output_type": "stream",
          "name": "stdout",
          "text": [
            "Columns in the DataFrame: Index(['RAJ2000', 'DEJ2000', 'objID', 'f_objID', 'Qual', 'e_RAJ2000',\n",
            "       'e_DEJ2000', '_tab1_10', 'Ns', 'Nd', 'gmag', 'e_gmag', 'gKmag',\n",
            "       'e_gKmag', 'gFlags', 'rmag', 'e_rmag', 'rKmag', 'e_rKmag', 'rFlags',\n",
            "       'imag', 'e_imag', 'iKmag', 'e_iKmag', 'iFlags', 'zmag', 'e_zmag',\n",
            "       'zKmag', 'e_zKmag', 'zFlags', 'ymag', 'e_ymag', 'yKmag', 'e_yKmag',\n",
            "       'yFlags'],\n",
            "      dtype='object')\n",
            "Number of filtered rows: 78836\n",
            "Filtered results saved to /content/drive/My Drive/Colab Notebooks/panstarrs__MyFunPolygon.tbl\n"
          ]
        }
      ]
    }
  ]
}