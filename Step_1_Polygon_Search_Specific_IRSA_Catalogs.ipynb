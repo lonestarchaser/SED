{
  "nbformat": 4,
  "nbformat_minor": 0,
  "metadata": {
    "colab": {
      "provenance": [],
      "authorship_tag": "ABX9TyMbHYrKKKgG0a0isXbcynMV",
      "include_colab_link": true
    },
    "kernelspec": {
      "name": "python3",
      "display_name": "Python 3"
    },
    "language_info": {
      "name": "python"
    }
  },
  "cells": [
    {
      "cell_type": "markdown",
      "metadata": {
        "id": "view-in-github",
        "colab_type": "text"
      },
      "source": [
        "<a href=\"https://colab.research.google.com/github/lonestarchaser/SED/blob/main/Step_1_Polygon_Search_Specific_IRSA_Catalogs.ipynb\" target=\"_parent\"><img src=\"https://colab.research.google.com/assets/colab-badge.svg\" alt=\"Open In Colab\"/></a>"
      ]
    },
    {
      "cell_type": "markdown",
      "source": [
        "# Let's just go to IRSA Catalog Search Tool and pull the polygon points\n",
        "\n",
        "Some acronyms you might like to know:\n",
        "* ADQL = Astronomical Data Query Language\n",
        "* TAP = Table Access Protocol\n",
        "\n",
        "FYI:\n",
        "* SCR1\tPOLYGON(21.8, 62.2, 19.96, 62.2, 19.96, 61.16, 21.8, 61.16)\n",
        "* SCR2\tPOLYGON(7.798, 65.54, 6.62, 65.54, 6.62, 65.37, 7.798, 65.37)\n",
        "\n",
        "Then change this value in four places:\n",
        "* \"_polygonSCR2.tbl\"\n"
      ],
      "metadata": {
        "id": "UqsIdfQzowGO"
      }
    },
    {
      "cell_type": "markdown",
      "source": [
        "## First, install Astropy libraries and import packages and subpackages\n",
        "\n",
        "These aren't normally included in Colab. You can save yourself some time and only have to run this once per time you open this."
      ],
      "metadata": {
        "id": "5SrnJTvbozjv"
      }
    },
    {
      "cell_type": "code",
      "execution_count": null,
      "metadata": {
        "colab": {
          "base_uri": "https://localhost:8080/"
        },
        "id": "JUdlqnQHopTK",
        "outputId": "c7f7be92-105e-48f3-d849-8e5c18282e91"
      },
      "outputs": [
        {
          "output_type": "stream",
          "name": "stdout",
          "text": [
            "Collecting astroquery\n",
            "  Downloading astroquery-0.4.7-py3-none-any.whl (5.3 MB)\n",
            "\u001b[2K     \u001b[90m━━━━━━━━━━━━━━━━━━━━━━━━━━━━━━━━━━━━━━━━\u001b[0m \u001b[32m5.3/5.3 MB\u001b[0m \u001b[31m8.7 MB/s\u001b[0m eta \u001b[36m0:00:00\u001b[0m\n",
            "\u001b[?25hCollecting gala\n",
            "  Downloading gala-1.8.1-cp310-cp310-manylinux_2_17_x86_64.manylinux2014_x86_64.whl (15.5 MB)\n",
            "\u001b[2K     \u001b[90m━━━━━━━━━━━━━━━━━━━━━━━━━━━━━━━━━━━━━━━━\u001b[0m \u001b[32m15.5/15.5 MB\u001b[0m \u001b[31m26.8 MB/s\u001b[0m eta \u001b[36m0:00:00\u001b[0m\n",
            "\u001b[?25hRequirement already satisfied: numpy>=1.18 in /usr/local/lib/python3.10/dist-packages (from astroquery) (1.25.2)\n",
            "Requirement already satisfied: astropy>=4.2.1 in /usr/local/lib/python3.10/dist-packages (from astroquery) (5.3.4)\n",
            "Requirement already satisfied: requests>=2.19 in /usr/local/lib/python3.10/dist-packages (from astroquery) (2.31.0)\n",
            "Requirement already satisfied: beautifulsoup4>=4.8 in /usr/local/lib/python3.10/dist-packages (from astroquery) (4.12.3)\n",
            "Requirement already satisfied: html5lib>=0.999 in /usr/local/lib/python3.10/dist-packages (from astroquery) (1.1)\n",
            "Requirement already satisfied: keyring>=15.0 in /usr/lib/python3/dist-packages (from astroquery) (23.5.0)\n",
            "Collecting pyvo>=1.1 (from astroquery)\n",
            "  Downloading pyvo-1.5.2-py3-none-any.whl (910 kB)\n",
            "\u001b[2K     \u001b[90m━━━━━━━━━━━━━━━━━━━━━━━━━━━━━━━━━━━━━━━━\u001b[0m \u001b[32m910.8/910.8 kB\u001b[0m \u001b[31m10.7 MB/s\u001b[0m eta \u001b[36m0:00:00\u001b[0m\n",
            "\u001b[?25hRequirement already satisfied: scipy>=1.8 in /usr/local/lib/python3.10/dist-packages (from gala) (1.11.4)\n",
            "Requirement already satisfied: pyyaml in /usr/local/lib/python3.10/dist-packages (from gala) (6.0.1)\n",
            "Requirement already satisfied: cython>=0.29 in /usr/local/lib/python3.10/dist-packages (from gala) (3.0.10)\n",
            "Requirement already satisfied: pyerfa>=2.0 in /usr/local/lib/python3.10/dist-packages (from astropy>=4.2.1->astroquery) (2.0.1.4)\n",
            "Requirement already satisfied: packaging>=19.0 in /usr/local/lib/python3.10/dist-packages (from astropy>=4.2.1->astroquery) (24.0)\n",
            "Requirement already satisfied: soupsieve>1.2 in /usr/local/lib/python3.10/dist-packages (from beautifulsoup4>=4.8->astroquery) (2.5)\n",
            "Requirement already satisfied: six>=1.9 in /usr/local/lib/python3.10/dist-packages (from html5lib>=0.999->astroquery) (1.16.0)\n",
            "Requirement already satisfied: webencodings in /usr/local/lib/python3.10/dist-packages (from html5lib>=0.999->astroquery) (0.5.1)\n",
            "Requirement already satisfied: charset-normalizer<4,>=2 in /usr/local/lib/python3.10/dist-packages (from requests>=2.19->astroquery) (3.3.2)\n",
            "Requirement already satisfied: idna<4,>=2.5 in /usr/local/lib/python3.10/dist-packages (from requests>=2.19->astroquery) (3.7)\n",
            "Requirement already satisfied: urllib3<3,>=1.21.1 in /usr/local/lib/python3.10/dist-packages (from requests>=2.19->astroquery) (2.0.7)\n",
            "Requirement already satisfied: certifi>=2017.4.17 in /usr/local/lib/python3.10/dist-packages (from requests>=2.19->astroquery) (2024.2.2)\n",
            "Installing collected packages: pyvo, gala, astroquery\n",
            "Successfully installed astroquery-0.4.7 gala-1.8.1 pyvo-1.5.2\n"
          ]
        }
      ],
      "source": [
        "import sys\n",
        "IN_COLAB = 'google.colab' in sys.modules\n",
        "\n",
        "if IN_COLAB:\n",
        "    !pip install astroquery gala"
      ]
    },
    {
      "cell_type": "markdown",
      "source": [
        "## Import subpackages\n"
      ],
      "metadata": {
        "id": "gwXwYxFJpN8K"
      }
    },
    {
      "cell_type": "code",
      "source": [
        "from google.colab import drive\n",
        "import numpy as np\n",
        "\n",
        "from io import StringIO\n",
        "import requests\n",
        "import pandas as pd\n",
        "import matplotlib.pyplot as plt\n",
        "\n",
        "from astroquery.ipac.irsa import Irsa\n",
        "from astroquery.vizier import Vizier\n",
        "Vizier.ROW_LIMIT = -1"
      ],
      "metadata": {
        "id": "_kq6_lmBpQqP"
      },
      "execution_count": null,
      "outputs": []
    },
    {
      "cell_type": "markdown",
      "source": [
        "## Connect to your Google Drive\n",
        "\n",
        "In order to save the file to Google Drive, you need to mount you Google Drive to this Google Colab notebook. This will allow you to access your Google Drive files directly from your notebook.\n",
        "\n",
        "It's going to ask for a lot of permissions.  Just get over it."
      ],
      "metadata": {
        "id": "alM2WxH3Fcia"
      }
    },
    {
      "cell_type": "code",
      "source": [
        "drive.mount('/content/drive')"
      ],
      "metadata": {
        "id": "Pbsb0gnsE_ae",
        "colab": {
          "base_uri": "https://localhost:8080/"
        },
        "outputId": "4334d2db-f316-4b9a-fdc5-a22a421877b9"
      },
      "execution_count": null,
      "outputs": [
        {
          "output_type": "stream",
          "name": "stdout",
          "text": [
            "Mounted at /content/drive\n"
          ]
        }
      ]
    },
    {
      "cell_type": "markdown",
      "source": [
        "Now you can list the files in that directory.\n",
        "\n",
        "You can do this to confirm the file is actually there:\n",
        "\n",
        "``!ls \"/content/drive/My Drive/Colab Notebooks\" ``"
      ],
      "metadata": {
        "id": "mSuTjOjaFRfU"
      }
    },
    {
      "cell_type": "markdown",
      "source": [
        "# Connect to the TAP Server and run a query\n",
        "\n",
        "I took the code from here:  https://irsa.ipac.caltech.edu/docs/program_interface/TAP.html\n",
        "\n",
        "Then, in an act of desperation, I got ChatGPT to fix it for me.\n",
        "\n",
        "I just said, \"convert this into something I can use in google colab in python:\"\n",
        "\n",
        "`` https://irsa.ipac.caltech.edu/TAP/sync?QUERY=SELECT+*+FROM+fp_psc+WHERE+CONTAINS(POINT(ra,dec),POLYGON(209.80225,53.34894,209.80225,55.34894,211.80225,54.34894))=1  ``\n",
        "\n",
        "Then I did a ton of extra stuff to it."
      ],
      "metadata": {
        "id": "0wrLOXOtp_ow"
      }
    },
    {
      "cell_type": "code",
      "source": [
        "def run_my_fancy_query(mySourceToUse,betterFileName,queryDetails,locationTag):\n",
        "\n",
        "    url = 'https://irsa.ipac.caltech.edu/TAP/sync'\n",
        "\n",
        "    query = (\n",
        "        f\"SELECT '{mySourceToUse}' AS Source, g.* \"\n",
        "        f\"FROM {mySourceToUse} AS g \"\n",
        "        f\"WHERE CONTAINS(POINT(g.ra, g.dec), {queryDetails} \"\n",
        "    )\n",
        "\n",
        "    funData = {\n",
        "        'FORMAT': 'IPAC_TABLE',\n",
        "        'QUERY': query\n",
        "    }\n",
        "\n",
        "    response = requests.post(url, data=funData)\n",
        "\n",
        "    # Print the response object\n",
        "    print(response)\n",
        "\n",
        "    if response.status_code == 200:\n",
        "        response_content = response.content\n",
        "        output_file_path = \"/content/drive/My Drive/Colab Notebooks/\" + betterFileName + locationTag + \".tbl\"\n",
        "        with open(output_file_path, 'wb') as f:\n",
        "            f.write(response.content)\n",
        "        print(\"File \" + betterFileName + locationTag + \".tbl\" + \" created successfully.\")\n",
        "    else:\n",
        "        # Handle the error condition\n",
        "        print(f\"File \" + betterFileName + locationTag + \".tbl\" + \" not created!\")\n",
        "        print(f\"Error: {response.status_code}\")\n",
        "\n",
        "    #print(response_content)"
      ],
      "metadata": {
        "id": "ZOu7uqh9qiyD"
      },
      "execution_count": null,
      "outputs": []
    },
    {
      "cell_type": "markdown",
      "source": [
        "# Just pull the IRSA Catalogs I want to use\n",
        "\n",
        "This could use an improvement where it handles 502 errors, but that's not happening now that I'm just reaching out for specific catalogs that I alraedy know work.\n",
        "\n",
        "\n"
      ],
      "metadata": {
        "id": "nUPmbyhMp5tx"
      }
    },
    {
      "cell_type": "code",
      "source": [
        "IrsaCatalogsToUse = ['slphotdr4',      'unwise_2019', 'fp_psc',       'akari_irc', 'allwise_p3as_psd', 'catwise_2020', 'akari_fis', 'gaia_dr3_source']\n",
        "BetterNamesToUse =  ['SEIP_slphotdr4', 'unwise_2019', '2mass_fp_psc', 'akari_irc', 'allwise_p3as_psd', 'catwise_2020', 'akari_fis', 'gaia_dr3_source']\n",
        "\n",
        "#queryDetails = \"POLYGON(21.8, 62.2, 19.96, 62.2, 19.96, 61.16, 21.8, 61.16)) = 1\"  # SCR 1\n",
        "#locationTag = \"_SCR1\"\n",
        "\n",
        "queryDetails = \"POLYGON(7.798, 65.54, 6.62, 65.54, 6.62, 65.37, 7.798, 65.37)) = 1\" # SCR 2\n",
        "locationTag = \"_SCR2\"\n",
        "\n",
        "for index, row in enumerate(IrsaCatalogsToUse):\n",
        "    if index >= 0:# and index < 895:\n",
        "        print('---------------------------------------------------------------------------')\n",
        "        #print(index, \"-\", row)\n",
        "        mySourceToUse = str(row)\n",
        "\n",
        "        betterFileName = BetterNamesToUse[index]\n",
        "        print(\"Using catalog: \" + mySourceToUse + \" and saving as:\", betterFileName + locationTag + \".tbl ...\")\n",
        "\n",
        "        run_my_fancy_query(mySourceToUse,betterFileName,queryDetails,locationTag)\n",
        "\n",
        "print(\"Done with all catalogs!\")"
      ],
      "metadata": {
        "id": "L2EGh9JHvE4U",
        "colab": {
          "base_uri": "https://localhost:8080/"
        },
        "outputId": "a7aaf548-0e01-4a48-f91c-033b5b14000e"
      },
      "execution_count": null,
      "outputs": [
        {
          "output_type": "stream",
          "name": "stdout",
          "text": [
            "---------------------------------------------------------------------------\n",
            "Using catalog: slphotdr4 and saving as: SEIP_slphotdr4_SCR2.tbl ...\n",
            "<Response [200]>\n",
            "File SEIP_slphotdr4_SCR2.tbl created successfully.\n",
            "---------------------------------------------------------------------------\n",
            "Using catalog: unwise_2019 and saving as: unwise_2019_SCR2.tbl ...\n",
            "<Response [200]>\n",
            "File unwise_2019_SCR2.tbl created successfully.\n",
            "---------------------------------------------------------------------------\n",
            "Using catalog: fp_psc and saving as: 2mass_fp_psc_SCR2.tbl ...\n",
            "<Response [200]>\n",
            "File 2mass_fp_psc_SCR2.tbl created successfully.\n",
            "---------------------------------------------------------------------------\n",
            "Using catalog: akari_irc and saving as: akari_irc_SCR2.tbl ...\n",
            "<Response [200]>\n",
            "File akari_irc_SCR2.tbl created successfully.\n",
            "---------------------------------------------------------------------------\n",
            "Using catalog: allwise_p3as_psd and saving as: allwise_p3as_psd_SCR2.tbl ...\n",
            "<Response [200]>\n",
            "File allwise_p3as_psd_SCR2.tbl created successfully.\n",
            "---------------------------------------------------------------------------\n",
            "Using catalog: catwise_2020 and saving as: catwise_2020_SCR2.tbl ...\n",
            "<Response [200]>\n",
            "File catwise_2020_SCR2.tbl created successfully.\n",
            "---------------------------------------------------------------------------\n",
            "Using catalog: akari_fis and saving as: akari_fis_SCR2.tbl ...\n",
            "<Response [200]>\n",
            "File akari_fis_SCR2.tbl created successfully.\n",
            "---------------------------------------------------------------------------\n",
            "Using catalog: gaia_dr3_source and saving as: gaia_dr3_source_SCR2.tbl ...\n",
            "<Response [200]>\n",
            "File gaia_dr3_source_SCR2.tbl created successfully.\n",
            "Done with all catalogs!\n"
          ]
        }
      ]
    },
    {
      "cell_type": "markdown",
      "source": [
        "# For Troubleshooting\n",
        "\n",
        "If we're just running one at a time"
      ],
      "metadata": {
        "id": "lpmPJXBnqf5g"
      }
    },
    {
      "cell_type": "code",
      "source": [
        "# Do this if it's just one at a time\n",
        "mySourceToUse = 'fp_psc'\n",
        "betterFileName = '2mass_fp_psc'\n",
        "queryDetails = \"POLYGON(7.798, 65.54, 6.62, 65.54, 6.62, 65.37, 7.798, 65.37)) = 1\"\n",
        "locationTag = \"_SCR2\"\n",
        "\n",
        "print(\"    Use this one:\", mySourceToUse)\n",
        "\n",
        "run_my_fancy_query(mySourceToUse,betterFileName,queryDetails,locationTag)\n",
        "\n",
        "\n",
        "print(\"done!\")"
      ],
      "metadata": {
        "id": "4JJQBnUfEkwz"
      },
      "execution_count": null,
      "outputs": []
    }
  ]
}